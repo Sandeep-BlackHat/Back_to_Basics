{
 "cells": [
  {
   "cell_type": "markdown",
   "metadata": {},
   "source": [
    "# Question:\n",
    "## Union and Intersection of two sorted arrays\n",
    "Given two sorted arrays, find their union and intersection.\n",
    "Example:\n",
    "\n",
    "Input : arr1[] = {1, 3, 4, 5, 7}\n",
    "        arr2[] = {2, 3, 5, 6} \n",
    "Output : Union : {1, 2, 3, 4, 5, 6, 7} \n",
    "         Intersection : {3, 5}\n",
    "\n",
    "Input : arr1[] = {2, 5, 6}\n",
    "        arr2[] = {4, 6, 8, 10} \n",
    "Output : Union : {2, 4, 5, 6, 8, 10} \n",
    "         Intersection : {6}"
   ]
  },
  {
   "cell_type": "code",
   "execution_count": 1,
   "metadata": {},
   "outputs": [
    {
     "name": "stdout",
     "output_type": "stream",
     "text": [
      "Enter values of arr1: 2 3 4 5 6 7\n",
      "Enter values of arr2: 3 4 5 6 8\n"
     ]
    }
   ],
   "source": [
    "#Taking input\n",
    "arr1=[int(i) for i in input(\"Enter values of arr1: \").split()]\n",
    "arr2=[int(i) for i in input(\"Enter values of arr2: \").split()]\n",
    "arr3=[]\n"
   ]
  },
  {
   "cell_type": "code",
   "execution_count": 2,
   "metadata": {},
   "outputs": [],
   "source": [
    "m=len(arr1)\n",
    "n=len(arr2)"
   ]
  },
  {
   "cell_type": "code",
   "execution_count": 3,
   "metadata": {},
   "outputs": [
    {
     "name": "stdout",
     "output_type": "stream",
     "text": [
      "Union of arr1 and arr2: [2, 3, 4, 5, 6, 7, 8]\n"
     ]
    }
   ],
   "source": [
    "#Union of two arrays\n",
    "for i in range(m):\n",
    "    if arr1[i] not in arr3:\n",
    "         arr3.append(arr1[i])        \n",
    "\n",
    "for i in range(n):\n",
    "    if arr2[i] not in arr3:\n",
    "        arr3.append(arr2[i])\n",
    "print(\"Union of arr1 and arr2:\",arr3)\n",
    "\n",
    "\n"
   ]
  },
  {
   "cell_type": "code",
   "execution_count": 4,
   "metadata": {},
   "outputs": [
    {
     "name": "stdout",
     "output_type": "stream",
     "text": [
      "Intersection of arr1 and arr2:  [<function <lambda> at 0x000002B86DECA318>, [3, 4, 5, 6, 8]]\n"
     ]
    }
   ],
   "source": [
    "#Intersection of two arrays\n",
    "arr4=[lambda x: x in arr1,arr2]\n",
    "print(\"Intersection of arr1 and arr2: \",arr4)"
   ]
  },
  {
   "cell_type": "code",
   "execution_count": null,
   "metadata": {},
   "outputs": [],
   "source": []
  }
 ],
 "metadata": {
  "kernelspec": {
   "display_name": "Python 3",
   "language": "python",
   "name": "python3"
  },
  "language_info": {
   "codemirror_mode": {
    "name": "ipython",
    "version": 3
   },
   "file_extension": ".py",
   "mimetype": "text/x-python",
   "name": "python",
   "nbconvert_exporter": "python",
   "pygments_lexer": "ipython3",
   "version": "3.7.6"
  }
 },
 "nbformat": 4,
 "nbformat_minor": 4
}
